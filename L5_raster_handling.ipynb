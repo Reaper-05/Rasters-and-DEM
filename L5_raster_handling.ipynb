{
 "cells": [
  {
   "cell_type": "code",
   "execution_count": null,
   "metadata": {},
   "outputs": [],
   "source": [
    "import sys\n",
    "!conda install --yes --prefix {sys.prefix} rasterio\n",
    "\n",
    "!conda install rasterio -y # do not install from conda-forge, it has an old version of the package. This only works for python 3.5, not yet 3.6-> will install rasterio 0.36!\n",
    "!conda install fiona -y # this iss for reading shapefiles (vector data)\n",
    "!conda install rasterstats -y # this is for zonal operations on rasters  (used later)"
   ]
  },
  {
   "cell_type": "code",
   "execution_count": 4,
   "metadata": {},
   "outputs": [
    {
     "name": "stdout",
     "output_type": "stream",
     "text": [
      "Collecting package metadata (current_repodata.json): ...working... done\n",
      "Solving environment: ...working... failed with initial frozen solve. Retrying with flexible solve.\n",
      "Collecting package metadata (repodata.json): ...working... done\n",
      "Solving environment: ...working... failed with initial frozen solve. Retrying with flexible solve.\n"
     ]
    },
    {
     "name": "stderr",
     "output_type": "stream",
     "text": [
      "\n",
      "PackagesNotFoundError: The following packages are not available from current channels:\n",
      "\n",
      "  - matplot\n",
      "\n",
      "Current channels:\n",
      "\n",
      "  - https://repo.anaconda.com/pkgs/main/win-64\n",
      "  - https://repo.anaconda.com/pkgs/main/noarch\n",
      "  - https://repo.anaconda.com/pkgs/r/win-64\n",
      "  - https://repo.anaconda.com/pkgs/r/noarch\n",
      "  - https://repo.anaconda.com/pkgs/msys2/win-64\n",
      "  - https://repo.anaconda.com/pkgs/msys2/noarch\n",
      "\n",
      "To search for alternate channels that may provide the conda package you're\n",
      "looking for, navigate to\n",
      "\n",
      "    https://anaconda.org\n",
      "\n",
      "and use the search bar at the top of the page.\n",
      "\n",
      "\n"
     ]
    }
   ],
   "source": [
    "!conda install matplotlib -y\n"
   ]
  },
  {
   "cell_type": "code",
   "execution_count": 1,
   "metadata": {},
   "outputs": [],
   "source": []
  },
  {
   "cell_type": "code",
   "execution_count": 1,
   "metadata": {},
   "outputs": [],
   "source": []
  },
  {
   "cell_type": "markdown",
   "metadata": {
    "collapsed": true
   },
   "source": [
    "## Working with raster data - matrices of values\n",
    "here, we will work with the SRTM DEM data (heights)"
   ]
  },
  {
   "cell_type": "code",
   "execution_count": null,
   "metadata": {},
   "outputs": [],
   "source": [
    "import matplotlib.pyplot as plt\n",
    "import numpy as np\n",
    "import rasterio\n",
    "from rasterio import plot"
   ]
  },
  {
   "cell_type": "code",
   "execution_count": null,
   "metadata": {},
   "outputs": [],
   "source": [
    "import os\n",
    "raster_path = os.path.join(\"/home/nbuser/library/L5\",\"data_L5\",\"EastofMelbSRTM.tif\")\n",
    "\n",
    "os.path.exists(raster_path)"
   ]
  },
  {
   "cell_type": "code",
   "execution_count": null,
   "metadata": {},
   "outputs": [],
   "source": [
    "src = rasterio.open(raster_path,\"r\") #opened to read only"
   ]
  },
  {
   "cell_type": "code",
   "execution_count": null,
   "metadata": {},
   "outputs": [],
   "source": [
    "%matplotlib inline\n",
    "plot.show(src)\n"
   ]
  },
  {
   "cell_type": "code",
   "execution_count": null,
   "metadata": {},
   "outputs": [],
   "source": [
    "# it is useful to find out how your data are structured\n",
    "# number of bands (some datasets can have RGB bands and more)\n",
    "src.count"
   ]
  },
  {
   "cell_type": "code",
   "execution_count": null,
   "metadata": {},
   "outputs": [],
   "source": [
    "# plot a histogram of the values in the raster\n",
    "plot.show_hist(src)"
   ]
  },
  {
   "cell_type": "code",
   "execution_count": null,
   "metadata": {},
   "outputs": [],
   "source": [
    "help(plot.show_hist)"
   ]
  },
  {
   "cell_type": "code",
   "execution_count": null,
   "metadata": {},
   "outputs": [],
   "source": [
    "# raster shape in crs above\n",
    "src.bounds"
   ]
  },
  {
   "cell_type": "code",
   "execution_count": null,
   "metadata": {},
   "outputs": [],
   "source": [
    "# let's visualize some part of it - a greyscale, and with some contour lines\n",
    "fig, ax = plt.subplots(1, figsize=(12, 12))\n",
    "plot.show((src, 1), cmap='Greys_r', interpolation='none', ax=ax)\n",
    "ax.set_xlim(145.5,146)\n",
    "ax.set_ylim(-37.0,-37.5)\n",
    "plot.show((src, 1),contour=True, ax=ax)"
   ]
  },
  {
   "cell_type": "code",
   "execution_count": null,
   "metadata": {},
   "outputs": [],
   "source": [
    "# name of dataset - alwasy hanbdy to access, if yo uare processing many\n",
    "src.name"
   ]
  },
  {
   "cell_type": "code",
   "execution_count": null,
   "metadata": {},
   "outputs": [],
   "source": [
    "# coordinate system\n",
    "src.crs"
   ]
  },
  {
   "cell_type": "code",
   "execution_count": null,
   "metadata": {},
   "outputs": [],
   "source": [
    "# value for missing data\n",
    "src.nodata"
   ]
  },
  {
   "cell_type": "code",
   "execution_count": null,
   "metadata": {},
   "outputs": [],
   "source": [
    "# size of dataset\n",
    "src.shape"
   ]
  },
  {
   "cell_type": "markdown",
   "metadata": {},
   "source": [
    "## Side note - Numpy arrays"
   ]
  },
  {
   "cell_type": "code",
   "execution_count": null,
   "metadata": {},
   "outputs": [],
   "source": [
    "# rasters are based on NP arrays. Let's see\n",
    "x = np.array([[1, 2, 3], [4, 5, 6]], np.int32)\n",
    "# arrays are indexed from 0 as in all Python."
   ]
  },
  {
   "cell_type": "code",
   "execution_count": null,
   "metadata": {},
   "outputs": [],
   "source": [
    "x"
   ]
  },
  {
   "cell_type": "code",
   "execution_count": null,
   "metadata": {},
   "outputs": [],
   "source": [
    "x[1,2] # get the second row, third column"
   ]
  },
  {
   "cell_type": "code",
   "execution_count": null,
   "metadata": {},
   "outputs": [],
   "source": [
    "# now the same with our raster\n",
    "src = rasterio.open(raster_path, 'r+')\n",
    "arr = src.read() # gets the array read in memory - careful,  may be inefficient\n",
    "print(arr.shape) # check the shape - see that it is one band, and the size of the array\n",
    "pt_top_left = arr[0,0,0]\n",
    "pt_top_left\n",
    "# Beware, arrays are mutable - you can alter the values unless you are in read only mode!"
   ]
  },
  {
   "cell_type": "code",
   "execution_count": null,
   "metadata": {},
   "outputs": [],
   "source": [
    "# if you open input outside of context, you must make sure that you close it.\n",
    "src.close()"
   ]
  },
  {
   "cell_type": "markdown",
   "metadata": {},
   "source": [
    "## Using contexts \n",
    "Contexts for reading/writing makes the structure more undertndable and makes sure you close the file"
   ]
  },
  {
   "cell_type": "code",
   "execution_count": null,
   "metadata": {},
   "outputs": [],
   "source": [
    "# using a context syntax to read\n",
    "# documentation for the modes: http://www.manpagez.com/man/3/fopen/ \n",
    "with rasterio.open(raster_path, 'r+') as r: # note the mode\n",
    "    print(r.closed) # see whether you can read/read/write or write to this\n",
    "    print(r.mode)\n",
    "    arr = r.read()  # read all raster values\n",
    "    print(arr.shape)  # this is a numpy array, with dimensions [band, row, col]\n",
    "    idx_pt = src.index(145.5,-37.5) # index of the cell containing coordinates: 144.5,-35.5 NOTE: in rasterio 1 this is a function src.xy()\n",
    "    print(\"Index of a cell at a given point - here near middle of the raster: \"+str(idx_pt[0])+\" \"+str(idx_pt[1]) ) # \n",
    "    coords_pt = src.ul(idx_pt[0],idx_pt[1])  \n",
    "    print(\"coordinates of the upper left cell where the index is are: \",coords_pt) # print max and min value of raster\n",
    "    # alrternatively\n",
    "    print(src.affine * idx_pt) # using athe affine transformation function"
   ]
  },
  {
   "cell_type": "markdown",
   "metadata": {},
   "source": [
    "## Masking by vector feature from shapefile"
   ]
  },
  {
   "cell_type": "code",
   "execution_count": null,
   "metadata": {},
   "outputs": [],
   "source": [
    "# compute the statistics by area - using rasterstats\n",
    "from rasterstats import zonal_stats\n",
    "zonal_stats(\"data_raster/melb_shape.shp\", 'EastofMelbSRTM.tif',\n",
    "            stats=\"count min mean max median\")\n"
   ]
  },
  {
   "cell_type": "code",
   "execution_count": null,
   "metadata": {},
   "outputs": [],
   "source": [
    "## this is a way to read shp data in - from example above. We are going to disucss this more later, for now, just have a look at it.\n",
    "with fiona.open(\"data_raster/melb_shape.shp\", \"r\") as shapefile:\n",
    "    features = [feature[\"geometry\"] for feature in shapefile]"
   ]
  },
  {
   "cell_type": "code",
   "execution_count": null,
   "metadata": {},
   "outputs": [],
   "source": [
    "features"
   ]
  },
  {
   "cell_type": "markdown",
   "metadata": {},
   "source": [
    "# convolution using scipy"
   ]
  },
  {
   "cell_type": "code",
   "execution_count": null,
   "metadata": {},
   "outputs": [],
   "source": [
    "import scipy.signal as sig "
   ]
  },
  {
   "cell_type": "code",
   "execution_count": null,
   "metadata": {},
   "outputs": [],
   "source": [
    "with rasterio.open('EastofMelbSRTM.tif', 'r+') as src:\n",
    "    data = src.read()[0]# your first array with data\n",
    "    kernel = np.ones((3,3))/9\n",
    "    C = sig.convolve2d(data,kernel, 'valid')"
   ]
  },
  {
   "cell_type": "code",
   "execution_count": null,
   "metadata": {},
   "outputs": [],
   "source": [
    "plot.show(C)"
   ]
  },
  {
   "cell_type": "code",
   "execution_count": null,
   "metadata": {},
   "outputs": [],
   "source": [
    "help(sig.convolve2d)"
   ]
  },
  {
   "cell_type": "markdown",
   "metadata": {},
   "source": [
    "## Raindrops\n",
    "find where rain flows.\n",
    "taken from http://www2.geog.ucl.ac.uk/~plewis/geogg122-2011-12/dem2.html "
   ]
  },
  {
   "cell_type": "code",
   "execution_count": null,
   "metadata": {},
   "outputs": [],
   "source": [
    "def padding(dem,size=1):\n",
    "    '''\n",
    "    Apply a border of size [pixel] to a spatial dataset\n",
    "\n",
    "    Return the padded data with the original centred in the array\n",
    "    '''\n",
    "    out = np.zeros([dem.shape[0]+2*size,dem.shape[1]+2*size])\n",
    "    out[:,:] = np.max(dem)+1\n",
    "    out[size:-size,size:-size] = dem\n",
    "    return out"
   ]
  },
  {
   "cell_type": "code",
   "execution_count": null,
   "metadata": {},
   "outputs": [],
   "source": [
    "def localMin(dem):\n",
    "    '''\n",
    "    We wish to return the location of the minimum grid value\n",
    "    in a neighbourhood.\n",
    "\n",
    "    We assume the array is 2D and defined (y,x)\n",
    "\n",
    "    We return wx,wy which are the cell displacements in x and y directions.\n",
    "\n",
    "    '''\n",
    "    wy = np.zeros_like(dem).astype(int)\n",
    "    wx = np.zeros_like(dem).astype(int)\n",
    "    winx = np.ones([3,3])\n",
    "    for i in range(3):\n",
    "        winx[:,i] = i - 1\n",
    "    winy = winx.transpose()\n",
    "    demp = padding(dem,size=1)\n",
    "    for y in np.arange(1,demp.shape[0]-1):\n",
    "        for x in np.arange(1,demp.shape[1]-1):\n",
    "            win = demp[y-1:y+2,x-1:x+2]\n",
    "            ww = np.where(win == np.min(win))\n",
    "            whereX = winx[ww][0]\n",
    "            whereY = winy[ww][0]\n",
    "            wy[y-1,x-1] = whereY\n",
    "            wx[y-1,x-1] = whereX\n",
    "    return wx,wy\n"
   ]
  },
  {
   "cell_type": "code",
   "execution_count": null,
   "metadata": {},
   "outputs": [],
   "source": [
    "with rasterio.open('EastofMelbSRTM.tif', 'r+') as src:\n",
    "    data = src.read()[0]# your first band array with data\n",
    "    (wx,wy) = localMin(data)\n",
    "    plot(wx)"
   ]
  },
  {
   "cell_type": "markdown",
   "metadata": {},
   "source": [
    "# slope and aspect\n",
    "    based on: http://www2.geog.ucl.ac.uk/~plewis/geogg122-2011-12/dem2.html"
   ]
  },
  {
   "cell_type": "code",
   "execution_count": null,
   "metadata": {},
   "outputs": [],
   "source": [
    "def gaussianFilter(sizex,sizey=None,scale=0.333):\n",
    "    '''\n",
    "    Generate and return a 2D Gaussian function\n",
    "    of dimensions (sizex,sizey)\n",
    "\n",
    "    If sizey is not set, it defaults to sizex\n",
    "    A scale can be defined to widen the function (default = 0.333)\n",
    "    '''\n",
    "    sizey = sizey or sizex\n",
    "    x, y = np.mgrid[-sizex:sizex+1, -sizey:sizey+1]\n",
    "    g = np.exp(-scale*(x**2/float(sizex)+y**2/float(sizey)))\n",
    "    return g/g.sum()"
   ]
  },
  {
   "cell_type": "code",
   "execution_count": null,
   "metadata": {},
   "outputs": [],
   "source": [
    "def grad2d(dem):\n",
    "    '''\n",
    "    Calculate the slope and gradient of a DEM\n",
    "    '''\n",
    "    from scipy import signal\n",
    "    f0 = gaussianFilter(3)\n",
    "    I = signal.convolve(dem,f0,mode='valid') # applies smooothing by gaussian filter\n",
    "    f1 = np.array([[-1,0,1],[-2,0,2],[-1,0,1]]) # SOBEL FILTER \n",
    "    f2 = f1.transpose()\n",
    "    g1 = signal.convolve(I,f1,mode='valid')\n",
    "    g2 = signal.convolve(I,f2,mode='valid')\n",
    "    slope = np.sqrt(g1**2 + g2**2)\n",
    "    aspect = np.arctan2(g2,g1)\n",
    "    return slope, aspect"
   ]
  },
  {
   "cell_type": "code",
   "execution_count": null,
   "metadata": {},
   "outputs": [],
   "source": [
    "slope, aspect = grad2d(A)"
   ]
  },
  {
   "cell_type": "code",
   "execution_count": null,
   "metadata": {},
   "outputs": [],
   "source": [
    "plot.show(slope)"
   ]
  },
  {
   "cell_type": "code",
   "execution_count": null,
   "metadata": {},
   "outputs": [],
   "source": [
    "result = scipy.ndimage.convolve(your_raster_as_numpy_array, weights=kernel) / kernel.size"
   ]
  },
  {
   "cell_type": "code",
   "execution_count": null,
   "metadata": {},
   "outputs": [],
   "source": [
    "from scipy.ndimage.filters import generic_filter as gf\n",
    "\n",
    "kernel = np.ones((3,3))\n",
    "circular_mean = gf(data, np.mean, footprint=kernel) # size=(3,3)"
   ]
  },
  {
   "cell_type": "code",
   "execution_count": null,
   "metadata": {},
   "outputs": [],
   "source": []
  }
 ],
 "metadata": {
  "kernelspec": {
   "display_name": "PyCharm (darrenchrist)",
   "language": "python",
   "name": "pycharm-bd84ec89"
  },
  "language_info": {
   "codemirror_mode": {
    "name": "ipython",
    "version": 3
   },
   "file_extension": ".py",
   "mimetype": "text/x-python",
   "name": "python",
   "nbconvert_exporter": "python",
   "pygments_lexer": "ipython3",
   "version": "3.7.7"
  }
 },
 "nbformat": 4,
 "nbformat_minor": 2
}