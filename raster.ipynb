{
 "cells": [
  {
   "cell_type": "code",
   "execution_count": null,
   "metadata": {},
   "outputs": [
    {
     "name": "stdout",
     "output_type": "stream",
     "text": [
      "Collecting package metadata (current_repodata.json): ...working... done\n",
      "Solving environment: ...working... done\n",
      "\n",
      "# All requested packages already installed.\n",
      "\n"
     ]
    }
   ],
   "source": [
    "\n",
    "!conda install rasterio \n",
    " # do not install from conda-forge, it has an old version of the package. This only works for python 3.5, not yet 3.6-> will install rasterio 0.36!\n",
    "!conda install fiona \n",
    "!conda install rasterstats \n",
    "!conda install matplotlib "
   ]
  },
  {
   "cell_type": "code",
   "execution_count": 6,
   "metadata": {},
   "outputs": [],
   "source": []
  },
  {
   "cell_type": "code",
   "execution_count": 7,
   "metadata": {
    "pycharm": {
     "name": "#%%\n"
    }
   },
   "outputs": [],
   "source": [
    "import matplotlib.pyplot as plt\n",
    "import numpy as np\n",
    "import rasterio\n",
    "from rasterio.plot import show\n",
    "import fiona\n",
    "import raster\n",
    "from ipywidgets import *\n",
    "%matplotlib notebook\n",
    "\n"
   ]
  },
  {
   "cell_type": "code",
   "execution_count": 8,
   "metadata": {
    "pycharm": {
     "name": "#%%\n"
    }
   },
   "outputs": [],
   "source": [
    "import os\n",
    "# raster_path = os.path.join(\"\",\"data_L5\",\"EastofMelbSRTM.tif\")\n",
    "\n",
    "os.path.exists('CLIP.tif')\n",
    "\n",
    "src = rasterio.open('CLIP.tif',\"r\")\n",
    "\n",
    "# %matplotlib inline\n",
    "# plt.show(src)\n",
    "# arr = src.read()"
   ]
  },
  {
   "cell_type": "code",
   "execution_count": 9,
   "metadata": {
    "pycharm": {
     "name": "#%%\n"
    }
   },
   "outputs": [
    {
     "name": "stdout",
     "output_type": "stream",
     "text": [
      "EPSG:4326\n",
      "BoundingBox(left=145.45486111162396, bottom=-37.97875000025906, right=146.44625000052883, top=-37.43680555580587)\n"
     ]
    },
    {
     "data": {
      "text/plain": [
       "(0.0002777777777822621, 0.0002777777777822621)"
      ]
     },
     "execution_count": 9,
     "metadata": {},
     "output_type": "execute_result"
    }
   ],
   "source": [
    "print(src.crs)\n",
    "print(src.bounds)\n",
    "src.res"
   ]
  },
  {
   "cell_type": "code",
   "execution_count": 10,
   "metadata": {
    "pycharm": {
     "name": "#%%\n"
    }
   },
   "outputs": [
    {
     "name": "stdout",
     "output_type": "stream",
     "text": [
      "CLIP.tif\n",
      "EPSG:4326\n",
      "BoundingBox(left=145.45486111162396, bottom=-37.97875000025906, right=146.44625000052883, top=-37.43680555580587)\n",
      "(0.0002777777777822621, 0.0002777777777822621)\n",
      "(None,)\n",
      "-3.4028234663852886e+38\n",
      "3569\n",
      "1951\n",
      "(1,)\n",
      "70.18749\n",
      "(0.0002777777777822621, 0.0002777777777822621)\n",
      "{'filename': 'CLIP.tif', 'coord_sys': ('4326', 'EPSG'), 'min_x_lon': ((363305.6777203782, 'm'), (145.45486111162396, '°')), 'max_x_lon': ((451368.01830525836, 'm'), (146.44625000052883, '°')), 'min_y_lat': ((5795416.555073915, 'm'), (-37.97875000025906, '°')), 'max_y_lat': ((5856525.67432561, 'm'), (-37.43680555580587, '°')), 'width_height_size': ((3569, 'px'), (1951, 'px'), (0.0002777777777822621, 0.0002777777777822621)), 'nodata': -3.4028234663852886e+38, 'min_max_value': (70.18749, 1563.1005)}\n",
      "(145.95055555607638, -37.707777778032465)\n",
      "(363305.6777203782, 5795416.555073915, 451368.01830525836, 5856525.67432561)\n",
      "<module 'ProjectModules.PrettyTable' from 'D:\\\\Programming\\\\Spatial Programming\\\\assignment3\\\\darrenchrist\\\\ProjectModules\\\\PrettyTable.py'>\n"
     ]
    }
   ],
   "source": [
    "dict1=raster.summary_dem('CLIP.tif')\n",
    "\n",
    "\n",
    "print(pret)\n",
    "#fig,ax =plt.subplot()\n",
    "#show(src,ax=ax)\n",
    "\n"
   ]
  }
 ],
 "metadata": {
  "kernelspec": {
   "display_name": "PyCharm (darrenchrist)",
   "language": "python",
   "name": "pycharm-bd84ec89"
  },
  "language_info": {
   "codemirror_mode": {
    "name": "ipython",
    "version": 3
   },
   "file_extension": ".py",
   "mimetype": "text/x-python",
   "name": "python",
   "nbconvert_exporter": "python",
   "pygments_lexer": "ipython3",
   "version": "3.7.7"
  }
 },
 "nbformat": 4,
 "nbformat_minor": 1
}